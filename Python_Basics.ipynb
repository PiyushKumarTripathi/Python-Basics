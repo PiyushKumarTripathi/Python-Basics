{
 "cells": [
  {
   "cell_type": "code",
   "execution_count": 7,
   "metadata": {},
   "outputs": [
    {
     "name": "stdout",
     "output_type": "stream",
     "text": [
      "hello world\n",
      "hello good morning\n",
      "hello\n"
     ]
    },
    {
     "data": {
      "text/plain": [
       "'hl'"
      ]
     },
     "execution_count": 7,
     "metadata": {},
     "output_type": "execute_result"
    }
   ],
   "source": [
    "str_a=\"hello world\"\n",
    "str_b=\"hello good morning\"\n",
    "str_c=\"hello\"\n",
    "print(str_a)\n",
    "print(str_b)\n",
    "print(str_c)\n",
    "str_a[4]\n",
    "str_b[0]\n",
    "str_b[3:18:2]\n",
    "str_b[0:5:3]"
   ]
  },
  {
   "cell_type": "code",
   "execution_count": 8,
   "metadata": {},
   "outputs": [
    {
     "name": "stdout",
     "output_type": "stream",
     "text": [
      "10\n",
      "10.4\n",
      "(6+7j)\n"
     ]
    }
   ],
   "source": [
    "int_a=10\n",
    "int_b=12\n",
    "\n",
    "float_a=10.4\n",
    "float_b=100.4\n",
    "\n",
    "complex_a=3j\n",
    "complex_b=6+7j\n",
    "\n",
    "print(int_a)\n",
    "print(float_a)\n",
    "print(complex_b)"
   ]
  },
  {
   "cell_type": "code",
   "execution_count": 9,
   "metadata": {},
   "outputs": [
    {
     "data": {
      "text/plain": [
       "10.0"
      ]
     },
     "execution_count": 9,
     "metadata": {},
     "output_type": "execute_result"
    }
   ],
   "source": [
    "a=float(10)\n",
    "a"
   ]
  },
  {
   "cell_type": "code",
   "execution_count": 10,
   "metadata": {},
   "outputs": [
    {
     "data": {
      "text/plain": [
       "199"
      ]
     },
     "execution_count": 10,
     "metadata": {},
     "output_type": "execute_result"
    }
   ],
   "source": [
    "b=int(199.0)\n",
    "b"
   ]
  },
  {
   "cell_type": "code",
   "execution_count": 11,
   "metadata": {},
   "outputs": [
    {
     "data": {
      "text/plain": [
       "float"
      ]
     },
     "execution_count": 11,
     "metadata": {},
     "output_type": "execute_result"
    }
   ],
   "source": [
    "type(float_a)"
   ]
  },
  {
   "cell_type": "code",
   "execution_count": 24,
   "metadata": {},
   "outputs": [],
   "source": [
    "list_a=[1,2,3,53,10]\n",
    "list_b=[1,2,3,53,10]\n",
    "\n",
    "tuples_a=('hello',34,59.0,4+7j)\n",
    "tuples_b=('this'\"has\",\"multiple\",\"strings\")"
   ]
  },
  {
   "cell_type": "code",
   "execution_count": 28,
   "metadata": {},
   "outputs": [
    {
     "name": "stdout",
     "output_type": "stream",
     "text": [
      "<class 'list'>\n",
      "<class 'tuple'>\n"
     ]
    },
    {
     "ename": "NameError",
     "evalue": "name 'tuple_a' is not defined",
     "output_type": "error",
     "traceback": [
      "\u001b[1;31m---------------------------------------------------------------------------\u001b[0m",
      "\u001b[1;31mNameError\u001b[0m                                 Traceback (most recent call last)",
      "\u001b[1;32m<ipython-input-28-998c0a2417fb>\u001b[0m in \u001b[0;36m<module>\u001b[1;34m\u001b[0m\n\u001b[0;32m      6\u001b[0m \u001b[0mlist_b\u001b[0m\u001b[1;33m[\u001b[0m\u001b[1;36m4\u001b[0m\u001b[1;33m]\u001b[0m\u001b[1;33m=\u001b[0m\u001b[1;34m\"hello this worls is for you\"\u001b[0m\u001b[1;33m\u001b[0m\u001b[1;33m\u001b[0m\u001b[0m\n\u001b[0;32m      7\u001b[0m \u001b[0mlist_b\u001b[0m\u001b[1;33m\u001b[0m\u001b[1;33m\u001b[0m\u001b[0m\n\u001b[1;32m----> 8\u001b[1;33m \u001b[0mtuple_a\u001b[0m\u001b[1;33m[\u001b[0m\u001b[1;36m2\u001b[0m\u001b[1;33m]\u001b[0m\u001b[1;33m=\u001b[0m\u001b[1;34m\"this throw an error\"\u001b[0m\u001b[1;33m\u001b[0m\u001b[1;33m\u001b[0m\u001b[0m\n\u001b[0m\u001b[0;32m      9\u001b[0m \u001b[0mlist_a\u001b[0m\u001b[1;33m[\u001b[0m\u001b[1;36m0\u001b[0m\u001b[1;33m]\u001b[0m\u001b[1;33m\u001b[0m\u001b[1;33m\u001b[0m\u001b[0m\n",
      "\u001b[1;31mNameError\u001b[0m: name 'tuple_a' is not defined"
     ]
    }
   ],
   "source": [
    "print(type(list_a))\n",
    "print(type(tuples_b))\n",
    "list_a[0]=45\n",
    "list_a\n",
    "list_b[3]=67\n",
    "list_b[4]=\"hello this worls is for you\"\n",
    "list_b\n",
    "tuple_a[2]=\"this throw an error\"\n",
    "list_a[0]"
   ]
  },
  {
   "cell_type": "code",
   "execution_count": 33,
   "metadata": {},
   "outputs": [
    {
     "data": {
      "text/plain": [
       "[25, 14]"
      ]
     },
     "execution_count": 33,
     "metadata": {},
     "output_type": "execute_result"
    }
   ],
   "source": [
    "list_a=[45,25,98,14,76]\n",
    "list_a[0]\n",
    "list_a[1:100:2]"
   ]
  },
  {
   "cell_type": "code",
   "execution_count": 39,
   "metadata": {},
   "outputs": [
    {
     "data": {
      "text/plain": [
       "93"
      ]
     },
     "execution_count": 39,
     "metadata": {},
     "output_type": "execute_result"
    }
   ],
   "source": [
    "list_b=[12,14,67,93,86]\n",
    "list_b[-2]"
   ]
  },
  {
   "cell_type": "code",
   "execution_count": 43,
   "metadata": {},
   "outputs": [
    {
     "data": {
      "text/plain": [
       "(87, 14, 12)"
      ]
     },
     "execution_count": 43,
     "metadata": {},
     "output_type": "execute_result"
    }
   ],
   "source": [
    "tuplse=(12,23,14,76,87)\n",
    "tuplse[::-2]"
   ]
  },
  {
   "cell_type": "code",
   "execution_count": 49,
   "metadata": {
    "scrolled": true
   },
   "outputs": [
    {
     "data": {
      "text/plain": [
       "[45,\n",
       " 25,\n",
       " 98,\n",
       " 14,\n",
       " 76,\n",
       " 'mumbai',\n",
       " 'mumbai',\n",
       " 'mumbai',\n",
       " 'mumbai',\n",
       " 12,\n",
       " 14,\n",
       " 67,\n",
       " 93,\n",
       " 86,\n",
       " 'mumbai',\n",
       " 12,\n",
       " 14,\n",
       " 67,\n",
       " 93,\n",
       " 86,\n",
       " 'mumbai',\n",
       " 12,\n",
       " 14,\n",
       " 67,\n",
       " 93,\n",
       " 86]"
      ]
     },
     "execution_count": 49,
     "metadata": {},
     "output_type": "execute_result"
    }
   ],
   "source": [
    "list_a.append('mumbai')\n",
    "list_a.extend(list_b)\n",
    "list_a"
   ]
  },
  {
   "cell_type": "code",
   "execution_count": 52,
   "metadata": {},
   "outputs": [
    {
     "data": {
      "text/plain": [
       "[22, 23, 76, 98]"
      ]
     },
     "execution_count": 52,
     "metadata": {},
     "output_type": "execute_result"
    }
   ],
   "source": [
    "list_c=[21,22,23,76,98]\n",
    "list_c.pop(0)\n",
    "list_c"
   ]
  },
  {
   "cell_type": "code",
   "execution_count": 53,
   "metadata": {},
   "outputs": [],
   "source": [
    "bool_a=True\n",
    "bool_b=False"
   ]
  },
  {
   "cell_type": "code",
   "execution_count": 56,
   "metadata": {},
   "outputs": [
    {
     "name": "stdout",
     "output_type": "stream",
     "text": [
      "{'key': 12, 'key_2': 45.0}\n",
      "{'name': 'jay', 'age': 17, 'key_2': 'surat'}\n"
     ]
    },
    {
     "data": {
      "text/plain": [
       "{'name': 'jay', 'key_2': 'surat'}"
      ]
     },
     "execution_count": 56,
     "metadata": {},
     "output_type": "execute_result"
    }
   ],
   "source": [
    "dict_a={'key':12, \"key_2\":45.00}\n",
    "dict_b={'name':'jay','age':17, \"key_2\":'surat'}\n",
    "print(dict_a)\n",
    "print(dict_b)\n",
    "dict_b.pop('age')\n",
    "dict_b"
   ]
  },
  {
   "cell_type": "code",
   "execution_count": 62,
   "metadata": {},
   "outputs": [
    {
     "ename": "AttributeError",
     "evalue": "'set' object has no attribute 'append'",
     "output_type": "error",
     "traceback": [
      "\u001b[1;31m---------------------------------------------------------------------------\u001b[0m",
      "\u001b[1;31mAttributeError\u001b[0m                            Traceback (most recent call last)",
      "\u001b[1;32m<ipython-input-62-b3315b364068>\u001b[0m in \u001b[0;36m<module>\u001b[1;34m\u001b[0m\n\u001b[0;32m      2\u001b[0m \u001b[0mset_a\u001b[0m\u001b[1;33m\u001b[0m\u001b[1;33m\u001b[0m\u001b[0m\n\u001b[0;32m      3\u001b[0m \u001b[1;31m#set_a.add('temprarure')\u001b[0m\u001b[1;33m\u001b[0m\u001b[1;33m\u001b[0m\u001b[1;33m\u001b[0m\u001b[0m\n\u001b[1;32m----> 4\u001b[1;33m \u001b[0mset_a\u001b[0m\u001b[1;33m.\u001b[0m\u001b[0mappend\u001b[0m\u001b[1;33m(\u001b[0m\u001b[1;34m'temprarure'\u001b[0m\u001b[1;33m)\u001b[0m\u001b[1;33m\u001b[0m\u001b[1;33m\u001b[0m\u001b[0m\n\u001b[0m\u001b[0;32m      5\u001b[0m \u001b[0mset_a\u001b[0m\u001b[1;33m\u001b[0m\u001b[1;33m\u001b[0m\u001b[0m\n",
      "\u001b[1;31mAttributeError\u001b[0m: 'set' object has no attribute 'append'"
     ]
    }
   ],
   "source": [
    "set_a={\"a\",\"b\",\"b\",\"b\",20.8,1,a+4j}\n",
    "set_a\n",
    "set_a.add('temprarure')\n",
    "#set_a.append('temprarure') do not supprot the append \n",
    "set_a"
   ]
  },
  {
   "cell_type": "code",
   "execution_count": 65,
   "metadata": {},
   "outputs": [
    {
     "ename": "AttributeError",
     "evalue": "'frozenset' object has no attribute 'add'",
     "output_type": "error",
     "traceback": [
      "\u001b[1;31m---------------------------------------------------------------------------\u001b[0m",
      "\u001b[1;31mAttributeError\u001b[0m                            Traceback (most recent call last)",
      "\u001b[1;32m<ipython-input-65-3fbd9caaf7f0>\u001b[0m in \u001b[0;36m<module>\u001b[1;34m\u001b[0m\n\u001b[0;32m      1\u001b[0m \u001b[0mfrozen_a\u001b[0m\u001b[1;33m=\u001b[0m\u001b[0mfrozenset\u001b[0m\u001b[1;33m(\u001b[0m\u001b[1;33m[\u001b[0m\u001b[1;34m\"Frankfruit\"\u001b[0m\u001b[1;33m,\u001b[0m\u001b[1;34m\"Basel\"\u001b[0m\u001b[1;33m,\u001b[0m\u001b[1;34m\"freigburg\"\u001b[0m\u001b[1;33m]\u001b[0m\u001b[1;33m)\u001b[0m\u001b[1;33m\u001b[0m\u001b[1;33m\u001b[0m\u001b[0m\n\u001b[0;32m      2\u001b[0m \u001b[0mfrozen_a\u001b[0m\u001b[1;33m\u001b[0m\u001b[1;33m\u001b[0m\u001b[0m\n\u001b[1;32m----> 3\u001b[1;33m \u001b[0mfrozen_a\u001b[0m\u001b[1;33m.\u001b[0m\u001b[0madd\u001b[0m\u001b[1;33m(\u001b[0m\u001b[1;34m\"hello\"\u001b[0m\u001b[1;33m)\u001b[0m\u001b[1;31m# does not support any update\u001b[0m\u001b[1;33m\u001b[0m\u001b[1;33m\u001b[0m\u001b[0m\n\u001b[0m",
      "\u001b[1;31mAttributeError\u001b[0m: 'frozenset' object has no attribute 'add'"
     ]
    }
   ],
   "source": [
    "frozen_a=frozenset([\"Frankfruit\",\"Basel\",\"freigburg\"])\n",
    "frozen_a\n",
    "frozen_a.add(\"hello\")# does not support any update"
   ]
  },
  {
   "cell_type": "code",
   "execution_count": 66,
   "metadata": {
    "scrolled": true
   },
   "outputs": [
    {
     "name": "stdout",
     "output_type": "stream",
     "text": [
      "sunday\n",
      "monday\n",
      "tuesday\n",
      "friday\n",
      "Thurday\n",
      "wednesday\n"
     ]
    }
   ],
   "source": [
    "list_a=['sunday',\"monday\",\"tuesday\",\"friday\",\"Thurday\",\"wednesday\"]\n",
    "for day in list_a:\n",
    "    print(day)"
   ]
  },
  {
   "cell_type": "code",
   "execution_count": 68,
   "metadata": {},
   "outputs": [
    {
     "name": "stdout",
     "output_type": "stream",
     "text": [
      "1 2 3 4 5 6 7 8 9 10 11 12 13 14 "
     ]
    }
   ],
   "source": [
    "for day in range(1,15):\n",
    "    print(day,end=\" \")"
   ]
  },
  {
   "cell_type": "code",
   "execution_count": 69,
   "metadata": {
    "scrolled": true
   },
   "outputs": [
    {
     "name": "stdout",
     "output_type": "stream",
     "text": [
      "roll_no\n",
      "mark\n",
      "subject\n"
     ]
    }
   ],
   "source": [
    "dict_a={'roll_no':[12,34,22,1,23,17], 'mark':[52,33,70,69,88,61], 'subject':['marathi','marathi','marathi','marathi']}\n",
    "for x in dict_a:\n",
    "    print(x)"
   ]
  },
  {
   "cell_type": "code",
   "execution_count": 70,
   "metadata": {
    "scrolled": true
   },
   "outputs": [
    {
     "name": "stdout",
     "output_type": "stream",
     "text": [
      "('roll_no', [12, 34, 22, 1, 23, 17])\n",
      "('mark', [52, 33, 70, 69, 88, 61])\n",
      "('subject', ['marathi', 'marathi', 'marathi', 'marathi'])\n"
     ]
    }
   ],
   "source": [
    "dict_a={'roll_no':[12,34,22,1,23,17], 'mark':[52,33,70,69,88,61], 'subject':['marathi','marathi','marathi','marathi']}\n",
    "for x in dict_a.items():\n",
    "    print(x)"
   ]
  },
  {
   "cell_type": "code",
   "execution_count": 71,
   "metadata": {
    "scrolled": true
   },
   "outputs": [
    {
     "name": "stdout",
     "output_type": "stream",
     "text": [
      "key: roll_no key: [12, 34, 22, 1, 23, 17]\n",
      "key: mark key: [52, 33, 70, 69, 88, 61]\n",
      "key: subject key: ['marathi', 'marathi', 'marathi', 'marathi']\n"
     ]
    }
   ],
   "source": [
    "dict_a={'roll_no':[12,34,22,1,23,17], 'mark':[52,33,70,69,88,61], 'subject':['marathi','marathi','marathi','marathi']}\n",
    "for x,y in dict_a.items():\n",
    "    print(\"key:\",x,\"key:\",y)"
   ]
  },
  {
   "cell_type": "code",
   "execution_count": 72,
   "metadata": {},
   "outputs": [
    {
     "name": "stdout",
     "output_type": "stream",
     "text": [
      "go\n",
      "chess\n",
      "checker\n",
      "minesweepwer\n"
     ]
    }
   ],
   "source": [
    "temp_list=['go',\"chess\",'checker','minesweepwer']\n",
    "game=0\n",
    "while game < len(temp_list):\n",
    "    print(temp_list[game])\n",
    "    game=game+1"
   ]
  },
  {
   "cell_type": "code",
   "execution_count": 74,
   "metadata": {},
   "outputs": [
    {
     "name": "stdout",
     "output_type": "stream",
     "text": [
      "B is greater than a\n"
     ]
    }
   ],
   "source": [
    "a=50\n",
    "b=60\n",
    "if b>a:\n",
    "    print(\"B is greater than a\")\n",
    "elif a==b:\n",
    "    print(\"a and b are equal\")\n",
    "else:\n",
    "    print(\"a is greater than b\")"
   ]
  },
  {
   "cell_type": "code",
   "execution_count": 75,
   "metadata": {},
   "outputs": [
    {
     "name": "stdout",
     "output_type": "stream",
     "text": [
      "1\n",
      "2\n"
     ]
    }
   ],
   "source": [
    "var=0\n",
    "while var in range(6):\n",
    "    var=var+1\n",
    "    if var==3:\n",
    "        continue\n",
    "    if var==4:\n",
    "        break\n",
    "    print(var)"
   ]
  },
  {
   "cell_type": "code",
   "execution_count": 80,
   "metadata": {},
   "outputs": [
    {
     "name": "stdout",
     "output_type": "stream",
     "text": [
      "hello checker how are you"
     ]
    }
   ],
   "source": [
    "temp_list=\"hello checker how are you\"\n",
    "for game in temp_list:\n",
    "    if game==\"checker\":\n",
    "        continue\n",
    "    print(game, end=\"\")"
   ]
  },
  {
   "cell_type": "code",
   "execution_count": 86,
   "metadata": {},
   "outputs": [
    {
     "name": "stdout",
     "output_type": "stream",
     "text": [
      "<class 'enumerate'>\n",
      "[(20, 'car'), (21, 'bicycle'), (22, 'scooter'), (23, 'bus'), (24, 'train')]\n",
      "\n",
      "<class 'enumerate'>\n",
      "[(20, 'car'), (21, 'bicycle'), (22, 'scooter'), (23, 'bus'), (24, 'train')]\n"
     ]
    }
   ],
   "source": [
    "enumerator_items=['car',\"bicycle\",\"scooter\",\"bus\",\"train\"]\n",
    "\n",
    "enumerateGrocery=enumerate(enumerator_items,20)\n",
    "\n",
    "print(type(enumerateGrocery))\n",
    "\n",
    "print(list(enumerateGrocery))\n",
    "\n",
    "print()\n",
    "\n",
    "enumerateGrocery = enumerate(enumerator_items)\n",
    "enumerateGrocery = enumerate(enumerator_items,20)\n",
    "print(type(enumerateGrocery))\n",
    "print(list(enumerateGrocery))"
   ]
  },
  {
   "cell_type": "code",
   "execution_count": 87,
   "metadata": {},
   "outputs": [
    {
     "name": "stdout",
     "output_type": "stream",
     "text": [
      "even\n"
     ]
    }
   ],
   "source": [
    "def even_odd(x):\n",
    "    if(x%2==0):\n",
    "        print(\"even\")\n",
    "    else:\n",
    "        print(\"odd\")\n",
    "even_odd(10)"
   ]
  },
  {
   "cell_type": "code",
   "execution_count": 4,
   "metadata": {
    "scrolled": true
   },
   "outputs": [
    {
     "name": "stdout",
     "output_type": "stream",
     "text": [
      "100\n"
     ]
    }
   ],
   "source": [
    "square=lambda x: x ** 2\n",
    "print(square(10))"
   ]
  },
  {
   "cell_type": "code",
   "execution_count": 5,
   "metadata": {
    "scrolled": true
   },
   "outputs": [
    {
     "name": "stdout",
     "output_type": "stream",
     "text": [
      "39\n"
     ]
    }
   ],
   "source": [
    "add=lambda x,y: x+y\n",
    "print(add(19,20))"
   ]
  },
  {
   "cell_type": "code",
   "execution_count": 6,
   "metadata": {},
   "outputs": [
    {
     "name": "stdout",
     "output_type": "stream",
     "text": [
      "True\n"
     ]
    }
   ],
   "source": [
    "even=lambda x: x%2==0\n",
    "print(even(10))"
   ]
  },
  {
   "cell_type": "code",
   "execution_count": 14,
   "metadata": {},
   "outputs": [
    {
     "data": {
      "text/plain": [
       "[50, 70, 90, 101]"
      ]
     },
     "execution_count": 14,
     "metadata": {},
     "output_type": "execute_result"
    }
   ],
   "source": [
    "list_1=[10,20,30,89]\n",
    "list_2=[40,50,60,12]\n",
    "new_tuple=list(map(add,list_1,list_2))\n",
    "new_tuple"
   ]
  },
  {
   "cell_type": "code",
   "execution_count": 15,
   "metadata": {},
   "outputs": [
    {
     "data": {
      "text/plain": [
       "[11, 21, 31, 90]"
      ]
     },
     "execution_count": 15,
     "metadata": {},
     "output_type": "execute_result"
    }
   ],
   "source": [
    "ans=list(map(lambda x: x+1, list_1))\n",
    "ans"
   ]
  },
  {
   "cell_type": "code",
   "execution_count": 16,
   "metadata": {},
   "outputs": [
    {
     "name": "stdout",
     "output_type": "stream",
     "text": [
      "[37, 15, 33, 23, 73]\n"
     ]
    }
   ],
   "source": [
    "list_of_numbers=[10,37,15,40,33,100,23,73,60]\n",
    "\n",
    "odd_list=list(filter(lambda x:(x%2!=0),list_of_numbers))\n",
    "\n",
    "print(odd_list)"
   ]
  },
  {
   "cell_type": "code",
   "execution_count": 17,
   "metadata": {},
   "outputs": [
    {
     "name": "stdout",
     "output_type": "stream",
     "text": [
      "[-10, -9, -8, -7, -6, -5, -4, -3, -2, -1]\n"
     ]
    }
   ],
   "source": [
    "negative_number=list(filter(lambda x:(x<0),range(-10,8)))\n",
    "print(negative_number)"
   ]
  },
  {
   "cell_type": "code",
   "execution_count": 20,
   "metadata": {
    "scrolled": false
   },
   "outputs": [
    {
     "ename": "NameError",
     "evalue": "name 'reduce' is not defined",
     "output_type": "error",
     "traceback": [
      "\u001b[1;31m---------------------------------------------------------------------------\u001b[0m",
      "\u001b[1;31mNameError\u001b[0m                                 Traceback (most recent call last)",
      "\u001b[1;32m<ipython-input-20-006fc4198241>\u001b[0m in \u001b[0;36m<module>\u001b[1;34m\u001b[0m\n\u001b[0;32m      1\u001b[0m \u001b[0mlist_of_numbers\u001b[0m\u001b[1;33m=\u001b[0m\u001b[1;33m[\u001b[0m\u001b[1;36m10\u001b[0m\u001b[1;33m,\u001b[0m\u001b[1;36m37\u001b[0m\u001b[1;33m,\u001b[0m\u001b[1;36m15\u001b[0m\u001b[1;33m,\u001b[0m\u001b[1;36m40\u001b[0m\u001b[1;33m,\u001b[0m\u001b[1;36m33\u001b[0m\u001b[1;33m,\u001b[0m\u001b[1;36m100\u001b[0m\u001b[1;33m,\u001b[0m\u001b[1;36m23\u001b[0m\u001b[1;33m,\u001b[0m\u001b[1;36m73\u001b[0m\u001b[1;33m,\u001b[0m\u001b[1;36m60\u001b[0m\u001b[1;33m]\u001b[0m\u001b[1;33m\u001b[0m\u001b[1;33m\u001b[0m\u001b[0m\n\u001b[1;32m----> 2\u001b[1;33m \u001b[0msum\u001b[0m\u001b[1;33m=\u001b[0m\u001b[0mreduce\u001b[0m\u001b[1;33m(\u001b[0m\u001b[1;33m(\u001b[0m\u001b[1;32mlambda\u001b[0m \u001b[0mx\u001b[0m\u001b[1;33m,\u001b[0m\u001b[0my\u001b[0m\u001b[1;33m:\u001b[0m \u001b[0mx\u001b[0m\u001b[1;33m+\u001b[0m\u001b[0my\u001b[0m\u001b[1;33m)\u001b[0m\u001b[1;33m,\u001b[0m \u001b[0mlist_of_numbers\u001b[0m\u001b[1;33m)\u001b[0m\u001b[1;33m\u001b[0m\u001b[1;33m\u001b[0m\u001b[0m\n\u001b[0m\u001b[0;32m      3\u001b[0m \u001b[0mprint\u001b[0m\u001b[1;33m(\u001b[0m\u001b[0msum\u001b[0m\u001b[1;33m)\u001b[0m\u001b[1;33m\u001b[0m\u001b[1;33m\u001b[0m\u001b[0m\n",
      "\u001b[1;31mNameError\u001b[0m: name 'reduce' is not defined"
     ]
    }
   ],
   "source": [
    "list_of_numbers=[10,37,15,40,33,100,23,73,60]\n",
    "sum=reduce((lambda x,y: x+y), list_of_numbers)\n",
    "print(sum)           "
   ]
  },
  {
   "cell_type": "code",
   "execution_count": 23,
   "metadata": {},
   "outputs": [
    {
     "name": "stdout",
     "output_type": "stream",
     "text": [
      "391\n"
     ]
    }
   ],
   "source": [
    "from functools import reduce\n",
    "list_of_numbers=[10,37,15,40,33,100,23,73,60]\n",
    "sum=reduce((lambda x,y: x+y), list_of_numbers)\n",
    "print(sum)  "
   ]
  }
 ],
 "metadata": {
  "kernelspec": {
   "display_name": "Python 3",
   "language": "python",
   "name": "python3"
  },
  "language_info": {
   "codemirror_mode": {
    "name": "ipython",
    "version": 3
   },
   "file_extension": ".py",
   "mimetype": "text/x-python",
   "name": "python",
   "nbconvert_exporter": "python",
   "pygments_lexer": "ipython3",
   "version": "3.7.1"
  }
 },
 "nbformat": 4,
 "nbformat_minor": 2
}
